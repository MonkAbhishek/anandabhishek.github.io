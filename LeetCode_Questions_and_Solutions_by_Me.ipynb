{
  "nbformat": 4,
  "nbformat_minor": 0,
  "metadata": {
    "colab": {
      "name": "LeetCode Questions and Solutions by Me.ipynb",
      "provenance": [],
      "authorship_tag": "ABX9TyP7CtgnCPOhbVqRWbnLSi81",
      "include_colab_link": true
    },
    "kernelspec": {
      "name": "python3",
      "display_name": "Python 3"
    }
  },
  "cells": [
    {
      "cell_type": "markdown",
      "metadata": {
        "id": "view-in-github",
        "colab_type": "text"
      },
      "source": [
        "<a href=\"https://colab.research.google.com/github/MonkAbhishek/anandabhishek.github.io/blob/master/LeetCode_Questions_and_Solutions_by_Me.ipynb\" target=\"_parent\"><img src=\"https://colab.research.google.com/assets/colab-badge.svg\" alt=\"Open In Colab\"/></a>"
      ]
    },
    {
      "cell_type": "markdown",
      "metadata": {
        "id": "i_OLf5xVycWO"
      },
      "source": [
        "Given an array of integers nums and an integer target, return indices of the two numbers such that they add up to target.\r\n",
        "\r\n",
        "You may assume that each input would have exactly one solution, and you may not use the same element twice.\r\n",
        "\r\n",
        "You can return the answer in any order.\r\n",
        "\r\n",
        " \r\n",
        "\r\n",
        "Example 1:\r\n",
        "\r\n",
        "Input: nums = [2,7,11,15], target = 9\r\n",
        "Output: [0,1]\r\n",
        "Output: Because nums[0] + nums[1] == 9, we return [0, 1]."
      ]
    },
    {
      "cell_type": "code",
      "metadata": {
        "id": "PI2wuLqoySha"
      },
      "source": [
        "def twoSum(nums, target):\r\n",
        "        \"\"\"\r\n",
        "        :type nums: List[int]\r\n",
        "        :type target: int\r\n",
        "        :rtype: List[int]\r\n",
        "        \"\"\"\r\n",
        "        # nums = [2,7,11,15]\r\n",
        "        # target = 9\r\n",
        "        # output = []\r\n",
        "        \r\n",
        "        for i in range(len(nums)):\r\n",
        "            for j in range(i+1,len(nums)):\r\n",
        "                if ((nums[i] + nums[j]) == target):\r\n",
        "                    return [i,j]#output = output + [i] + [j] \r\n",
        "   \r\n",
        "        #"
      ],
      "execution_count": null,
      "outputs": []
    },
    {
      "cell_type": "code",
      "metadata": {
        "colab": {
          "base_uri": "https://localhost:8080/"
        },
        "id": "H_IMy0d8zT5o",
        "outputId": "980ca5be-7a70-47e4-8c69-56f89a86b53c"
      },
      "source": [
        "numsa = [3,2,4]\r\n",
        "targeta = 6\r\n",
        "twoSum(numsa, targeta)\r\n"
      ],
      "execution_count": null,
      "outputs": [
        {
          "output_type": "execute_result",
          "data": {
            "text/plain": [
              "[1, 2]"
            ]
          },
          "metadata": {
            "tags": []
          },
          "execution_count": 33
        }
      ]
    },
    {
      "cell_type": "code",
      "metadata": {
        "id": "ssCV9laj8jCZ"
      },
      "source": [
        "class Solution:\r\n",
        "    def twoSum(self, nums: List[int], target: int) -> List[int]:\r\n",
        "        for i in range(len(nums)):\r\n",
        "            for j in range(i+1, len(nums)):\r\n",
        "                if nums[i] + nums[j] == target:\r\n",
        "                    return [i, j]\r\n",
        "        "
      ],
      "execution_count": null,
      "outputs": []
    },
    {
      "cell_type": "markdown",
      "metadata": {
        "id": "4JrbNmIi-S3W"
      },
      "source": [
        "2. Add Two Numbers\r\n",
        "Add to List\r\n",
        "\r\n",
        "You are given two non-empty linked lists representing two non-negative integers. The digits are stored in reverse order, and each of their nodes contains a single digit. Add the two numbers and return the sum as a linked list.\r\n",
        "\r\n",
        "You may assume the two numbers do not contain any leading zero, except the number 0 itself.\r\n",
        "\r\n",
        " "
      ]
    },
    {
      "cell_type": "code",
      "metadata": {
        "id": "mjCAcr-Q-WAP"
      },
      "source": [
        "class Solution:\r\n",
        "    def addTwoNumbers(self, l1: ListNode, l2: ListNode) -> ListNode:\r\n",
        "        a = l1 #pointers\r\n",
        "        b = l2 #pointers\r\n",
        "        arr1 = []\r\n",
        "        arr2 = []\r\n",
        "\r\n",
        "        while a:\r\n",
        "          arr1.append(a.val)\r\n",
        "          a = a.next\r\n",
        "\r\n",
        "        while b:\r\n",
        "          arr2.append(b.val)\r\n",
        "          b = b.next\r\n",
        "\r\n",
        "        arr1.reverse()\r\n",
        "        arr2.reverse()\r\n",
        "\r\n",
        "        inta = int(\"\".join(str(x) for x in arr1)) #converting list to strings\r\n",
        "        intb = int(\"\".join(str(x) for x in arr2))\r\n",
        "\r\n",
        "        c = list(str(inta + intb)) #performing addition - the answer we wanted\r\n",
        "\r\n",
        "        # assign last digit to new ListNode which represents the head of returned LL\r\n",
        "        head = l3 = ListNode(c.pop())\r\n",
        "\r\n",
        "        c.reverse()\r\n",
        "\r\n",
        "        # traverse remaining digits, assigning each to new ListNode\r\n",
        "        for i in c:\r\n",
        "            l3.next = ListNode(i)\r\n",
        "            l3 = l3.next\r\n",
        "\r\n",
        "        return head "
      ],
      "execution_count": null,
      "outputs": []
    },
    {
      "cell_type": "code",
      "metadata": {
        "id": "0nHbyNt_JJDa"
      },
      "source": [
        "# Definition for singly-linked list.\r\n",
        "# class ListNode:\r\n",
        "#     def __init__(self, val=0, next=None):\r\n",
        "#         self.val = val\r\n",
        "#         self.next = next\r\n",
        "class Solution:\r\n",
        "    def addTwoNumbers(self, l1: ListNode, l2: ListNode) -> ListNode:\r\n",
        "        a = l1 #pointers\r\n",
        "        b = l2 #pointers\r\n",
        "        arr1 = []\r\n",
        "        arr2 = []\r\n",
        "\r\n",
        "        while a:\r\n",
        "          arr1.append(a.val)\r\n",
        "          a = a.next\r\n",
        "\r\n",
        "        while b:\r\n",
        "          arr2.append(b.val)\r\n",
        "          b = b.next\r\n",
        "\r\n",
        "        arr1.reverse()\r\n",
        "        arr2.reverse()\r\n",
        "\r\n",
        "        inta = int(\"\".join(str(x) for x in arr1)) #converting list to strings\r\n",
        "        intb = int(\"\".join(str(x) for x in arr2))\r\n",
        "\r\n",
        "        c = list(str(inta + intb)) #performing addition - the answer we wanted\r\n",
        "\r\n",
        "        # assign last digit to new ListNode which represents the head of returned LL\r\n",
        "        head = l3 = ListNode(c.pop())\r\n",
        "\r\n",
        "        c.reverse()\r\n",
        "\r\n",
        "        # traverse remaining digits, assigning each to new ListNode\r\n",
        "        for i in c:\r\n",
        "            l3.next = ListNode(i)\r\n",
        "            l3 = l3.next\r\n",
        "\r\n",
        "        return head \r\n",
        "        "
      ],
      "execution_count": null,
      "outputs": []
    },
    {
      "cell_type": "markdown",
      "metadata": {
        "id": "B5Opz5ITbc5O"
      },
      "source": [
        "Given a string s, find the length of the longest substring without repeating characters.\r\n",
        "\r\n",
        " \r\n",
        "\r\n",
        "Example 1:\r\n",
        "\r\n",
        "Input: s = \"abcabcbb\"\r\n",
        "Output: 3\r\n",
        "Explanation: The answer is \"abc\", with the length of 3.\r\n",
        "Example 2:\r\n",
        "\r\n",
        "Input: s = \"bbbbb\"\r\n",
        "Output: 1\r\n",
        "Explanation: The answer is \"b\", with the length of 1.\r\n",
        "Example 3:\r\n",
        "\r\n",
        "Input: s = \"pwwkew\"\r\n",
        "Output: 3\r\n",
        "Explanation: The answer is \"wke\", with the length of 3.\r\n",
        "Notice that the answer must be a substring, \"pwke\" is a subsequence and not a substring."
      ]
    },
    {
      "cell_type": "code",
      "metadata": {
        "id": "0D08ohh7bjBE"
      },
      "source": [
        "class Solution:\r\n",
        "    def lengthOfLongestSubstring(self, s: str) -> int:\r\n",
        "        maxlen = 0\r\n",
        "        current = \"\"\r\n",
        "        \r\n",
        "        for each in s:\r\n",
        "            if each not in current:\r\n",
        "                current = current + each\r\n",
        "            else:\r\n",
        "                maxlen = max(maxlen,len(current))\r\n",
        "                idx = current.index(each)\r\n",
        "                current = current[idx+1:] + each\r\n",
        "        maxlen = max(maxlen,len(current))\r\n",
        "        return maxlen\r\n",
        "        "
      ],
      "execution_count": null,
      "outputs": []
    },
    {
      "cell_type": "code",
      "metadata": {
        "colab": {
          "base_uri": "https://localhost:8080/"
        },
        "id": "o5pB3AABgyPh",
        "outputId": "260ea124-0f37-4b94-c2e3-fd67050992d0"
      },
      "source": [
        "s = \"abcdabc\"\r\n",
        "maxlen = 0\r\n",
        "current = \"\"\r\n",
        "for each in s:\r\n",
        "  print(\"each\",each)\r\n",
        "  if each not in current:\r\n",
        "    current = current + each\r\n",
        "    print(\"1\",current)\r\n",
        "  else:\r\n",
        "    maxlen =  max(maxlen, len(current))\r\n",
        "    idx = current.index(each)\r\n",
        "    print(\"idx\",idx)\r\n",
        "    current = current[idx+1:] + each\r\n",
        "    print(\"2\",current)\r\n",
        "maxlen =  max(maxlen, len(current))\r\n",
        "print(maxlen) "
      ],
      "execution_count": null,
      "outputs": [
        {
          "output_type": "stream",
          "text": [
            "each a\n",
            "1 a\n",
            "each b\n",
            "1 ab\n",
            "each c\n",
            "1 abc\n",
            "each d\n",
            "1 abcd\n",
            "each a\n",
            "idx 0\n",
            "2 bcda\n",
            "each b\n",
            "idx 0\n",
            "2 cdab\n",
            "each c\n",
            "idx 0\n",
            "2 dabc\n",
            "4\n"
          ],
          "name": "stdout"
        }
      ]
    },
    {
      "cell_type": "markdown",
      "metadata": {
        "id": "8MUyFtdImFFl"
      },
      "source": [
        "4. **Median of Two Sorted Arrays**\r\n",
        "**Hard**\r\n",
        "\r\n",
        "\r\n",
        "\r\n",
        "Add to List\r\n",
        "\r\n",
        "Share\r\n",
        "Given two sorted arrays nums1 and nums2 of size m and n respectively, return the median of the two sorted arrays.\r\n",
        "\r\n",
        " \r\n",
        "\r\n",
        "Example 1:\r\n",
        "\r\n",
        "Input: nums1 = [1,3], nums2 = [2]\r\n",
        "Output: 2.00000\r\n",
        "Explanation: merged array = [1,2,3] and median is 2.\r\n",
        "Example 2:\r\n",
        "\r\n",
        "Input: nums1 = [1,2], nums2 = [3,4]\r\n",
        "Output: 2.50000\r\n",
        "Explanation: merged array = [1,2,3,4] and median is (2 + 3) / 2 = 2.5.\r\n",
        "Example 3:\r\n",
        "\r\n",
        "Input: nums1 = [0,0], nums2 = [0,0]\r\n",
        "Output: 0.00000\r\n",
        "Example 4:\r\n",
        "\r\n",
        "Input: nums1 = [], nums2 = [1]\r\n",
        "Output: 1.00000\r\n",
        "Example 5:\r\n",
        "\r\n",
        "Input: nums1 = [2], nums2 = []\r\n",
        "Output: 2.00000"
      ]
    },
    {
      "cell_type": "code",
      "metadata": {
        "colab": {
          "base_uri": "https://localhost:8080/"
        },
        "id": "1aAcHc0gi9wP",
        "outputId": "5dde249a-ae45-47e9-c391-9d0df30401af"
      },
      "source": [
        "nums1 = [1,2]\r\n",
        "nums2 = [3,4]\r\n",
        "nums3 = nums1 + nums2\r\n",
        "\r\n",
        "nums3.sort()\r\n",
        "print(nums3)\r\n",
        "length = len(nums3)\r\n",
        "halflength = int(length/2)\r\n",
        "\r\n",
        "if (length % 2)==0:\r\n",
        "    print(float((nums3[halflength-1] + nums3[halflength] )/2))\r\n",
        "else:\r\n",
        "    print(nums3[halflength])"
      ],
      "execution_count": null,
      "outputs": [
        {
          "output_type": "stream",
          "text": [
            "[1, 2, 3, 4]\n",
            "2.5\n"
          ],
          "name": "stdout"
        }
      ]
    },
    {
      "cell_type": "markdown",
      "metadata": {
        "id": "7EONzNeTpGPO"
      },
      "source": [
        "**5. Longest Palindromic Substring**\r\n",
        "**Medium** \r\n",
        "\r\n",
        "Add to List\r\n",
        "\r\n",
        "\r\n",
        "Given a string s, return the longest palindromic substring in s.\r\n",
        "\r\n",
        " \r\n",
        "\r\n",
        "Example 1:\r\n",
        "\r\n",
        "Input: s = \"babad\"\r\n",
        "Output: \"bab\"\r\n",
        "Note: \"aba\" is also a valid answer.\r\n",
        "Example 2:\r\n",
        "\r\n",
        "Input: s = \"cbbd\"\r\n",
        "Output: \"bb\"\r\n",
        "Example 3:\r\n",
        "\r\n",
        "Input: s = \"a\"\r\n",
        "Output: \"a\"\r\n",
        "Example 4:\r\n",
        "\r\n",
        "Input: s = \"ac\"\r\n",
        "Output: \"a\"\r\n",
        " \r\n",
        "\r\n",
        "Constraints:\r\n",
        "\r\n",
        "1 <= s.length <= 1000\r\n",
        "s consist of only digits and English letters (lower-case and/or upper-case),"
      ]
    },
    {
      "cell_type": "code",
      "metadata": {
        "colab": {
          "base_uri": "https://localhost:8080/",
          "height": 528
        },
        "id": "VXS54dpWpR07",
        "outputId": "5e5f2484-d1c7-4264-e607-d0c68132309f"
      },
      "source": [
        "#Return empty if string is empty\r\n",
        "\r\n",
        "s = \"babad\"\r\n",
        "if not s:\r\n",
        "    print(s)\r\n",
        "\r\n",
        "res = \"\"\r\n",
        "\r\n",
        "for i in range(len(s)):\r\n",
        "    print(\"i\",i,\" len of s\",len(s))\r\n",
        "    j = i+1\r\n",
        "    \r\n",
        "    # While j is less than length of string\r\n",
        "    # AND res is *not* longer than substring s[i:]\r\n",
        "    \r\n",
        "    while j <= len(s) and len(res) <= len(s[i:]):\r\n",
        "          print(\"j\",j,\"len(res)\",len(res),\"len(s[i:]\",len(s[i:]))\r\n",
        "          # If substring s[i:j] is a palindrome\r\n",
        "          # AND substring is longer than res\r\n",
        "          print(\"s[i:j]\",s[i:j],\" abhishek\",  s[i:j][::-1])\r\n",
        "          if s[i:j] == s[i:j][::-1] and len(s[i:j]) > len(res):\r\n",
        "            res = s[i:j]\r\n",
        "          j = j + 1\r\n",
        "        \r\n",
        "res"
      ],
      "execution_count": null,
      "outputs": [
        {
          "output_type": "stream",
          "text": [
            "i 0  len of s 5\n",
            "j 1 len(res) 0 len(s[i:] 5\n",
            "s[i:j] b  abhishek b\n",
            "j 2 len(res) 1 len(s[i:] 5\n",
            "s[i:j] ba  abhishek ab\n",
            "j 3 len(res) 1 len(s[i:] 5\n",
            "s[i:j] bab  abhishek bab\n",
            "j 4 len(res) 3 len(s[i:] 5\n",
            "s[i:j] baba  abhishek abab\n",
            "j 5 len(res) 3 len(s[i:] 5\n",
            "s[i:j] babad  abhishek dabab\n",
            "i 1  len of s 5\n",
            "j 2 len(res) 3 len(s[i:] 4\n",
            "s[i:j] a  abhishek a\n",
            "j 3 len(res) 3 len(s[i:] 4\n",
            "s[i:j] ab  abhishek ba\n",
            "j 4 len(res) 3 len(s[i:] 4\n",
            "s[i:j] aba  abhishek aba\n",
            "j 5 len(res) 3 len(s[i:] 4\n",
            "s[i:j] abad  abhishek daba\n",
            "i 2  len of s 5\n",
            "j 3 len(res) 3 len(s[i:] 3\n",
            "s[i:j] b  abhishek b\n",
            "j 4 len(res) 3 len(s[i:] 3\n",
            "s[i:j] ba  abhishek ab\n",
            "j 5 len(res) 3 len(s[i:] 3\n",
            "s[i:j] bad  abhishek dab\n",
            "i 3  len of s 5\n",
            "i 4  len of s 5\n"
          ],
          "name": "stdout"
        },
        {
          "output_type": "execute_result",
          "data": {
            "application/vnd.google.colaboratory.intrinsic+json": {
              "type": "string"
            },
            "text/plain": [
              "'bab'"
            ]
          },
          "metadata": {
            "tags": []
          },
          "execution_count": 120
        }
      ]
    },
    {
      "cell_type": "markdown",
      "metadata": {
        "id": "6nYnrrmov8j_"
      },
      "source": [
        "**6. ZigZag Conversion**\r\n",
        "**Medium**\r\n",
        "\r\n",
        "Add to List\r\n",
        "\r\n",
        "Share\r\n",
        "**\r\n",
        "The string \"PAYPALISHIRING\" is written in a zigzag pattern on a given number of rows like this: (you may want to display this pattern in a fixed font for better legibility)** \r\n",
        "\r\n",
        "P   A   H   N\r\n",
        "A P L S I I G\r\n",
        "Y   I   R\r\n",
        "And then read line by line: \"PAHNAPLSIIGYIR\"\r\n",
        "\r\n",
        "Write the code that will take a string and make this conversion given a number of rows:\r\n",
        "\r\n",
        "string convert(string s, int numRows);\r\n",
        " \r\n",
        "\r\n",
        "Example 1:\r\n",
        "\r\n",
        "Input: s = \"PAYPALISHIRING\", numRows = 3\r\n",
        "Output: \"PAHNAPLSIIGYIR\"\r\n",
        "Example 2:\r\n",
        "\r\n",
        "Input: s = \"PAYPALISHIRING\", numRows = 4\r\n",
        "Output: \"PINALSIGYAHRPI\"\r\n",
        "Explanation:\r\n",
        "P     I    N\r\n",
        "A   L S  I G\r\n",
        "Y A   H R\r\n",
        "P     I\r\n",
        "Example 3:\r\n",
        "\r\n",
        "Input: s = \"A\", numRows = 1\r\n",
        "Output: \"A\"\r\n",
        " \r\n",
        "\r\n",
        "Constraints:\r\n",
        "\r\n",
        "1 <= s.length <= 1000\r\n",
        "s consists of English letters (lower-case and upper-case), ',' and '.'.\r\n",
        "1 <= numRows <= 1000"
      ]
    },
    {
      "cell_type": "code",
      "metadata": {
        "colab": {
          "base_uri": "https://localhost:8080/"
        },
        "id": "LpbfhiI8wLn1",
        "outputId": "3cb35ff0-da62-4e2a-88bf-a6e9000c541d"
      },
      "source": [
        "s = \"PAYPALISHIRING\"\r\n",
        "h =  3\r\n",
        "print(len(s))\r\n",
        "#s[1]\r\n",
        "hg = h-1\r\n",
        "# P   A   H   N\r\n",
        "# A   L S I I G\r\n",
        "# Y   I   R\r\n",
        "#PAHNAPLSIIGYIR - 048 12 - 13579 11 - 2 6 10\r\n",
        "for i in range(14):\r\n",
        "  bb.update({i:s[i]})\r\n",
        "\r\n",
        "  #\r\n",
        "\r\n",
        "print(bb)\r\n",
        "# Input: s = \"PAYPALISHIRING\", numRows = 4\r\n",
        "# Output: \"PINALSIGYAHRPI\"\r\n",
        "# Explanation:\r\n",
        "# P     I    N - 0 6 12\r\n",
        "# A   L S  I G\r\n",
        "# Y A   H R\r\n",
        "# P     I"
      ],
      "execution_count": null,
      "outputs": [
        {
          "output_type": "stream",
          "text": [
            "14\n",
            "{0: 'P', 1: 'A', 2: 'Y', 3: 'P', 4: 'A', 5: 'L', 6: 'I', 7: 'S', 8: 'H', 9: 'I', 10: 'R', 11: 'I', 12: 'N', 13: 'G'}\n"
          ],
          "name": "stdout"
        }
      ]
    },
    {
      "cell_type": "markdown",
      "metadata": {
        "id": "gE-p1I3rIurJ"
      },
      "source": [
        "1365. How Many Numbers Are Smaller Than the Current Number\r\n",
        "Given the array nums, for each nums[i] find out how many numbers in the array are smaller than it. That is, for each nums[i] you have to count the number of valid j's such that j != i and nums[j] < nums[i].\r\n",
        "\r\n",
        "Return the answer in an array.\r\n",
        "\r\n",
        " \r\n",
        "\r\n",
        "Example 1:\r\n",
        "\r\n",
        "Input: nums = [8,1,2,2,3]\r\n",
        "Output: [4,0,1,1,3]\r\n",
        "Explanation: \r\n",
        "For nums[0]=8 there exist four smaller numbers than it (1, 2, 2 and 3). \r\n",
        "For nums[1]=1 does not exist any smaller number than it.\r\n",
        "For nums[2]=2 there exist one smaller number than it (1). \r\n",
        "For nums[3]=2 there exist one smaller number than it (1). \r\n",
        "For nums[4]=3 there exist three smaller numbers than it (1, 2 and 2)."
      ]
    },
    {
      "cell_type": "code",
      "metadata": {
        "colab": {
          "base_uri": "https://localhost:8080/"
        },
        "id": "CI57qtZdIzLX",
        "outputId": "d59f8ecf-7095-4deb-e1ad-e1c23a302a51"
      },
      "source": [
        "nums = [8,1,2,2,3]\r\n",
        "#def smallerNumbersThanCurrent(self, nums: List[int]) -> List[int]:\r\n",
        "output = []\r\n",
        "for i in range(len(nums)):\r\n",
        "    count = 0\r\n",
        "    \r\n",
        "    for j in range(len(nums)):\r\n",
        "        if j != i and nums[i] > nums[j]:\r\n",
        "            count += 1# count + 1\r\n",
        "    output.append(count)\r\n",
        "#return output\r\n",
        "output"
      ],
      "execution_count": 3,
      "outputs": [
        {
          "output_type": "execute_result",
          "data": {
            "text/plain": [
              "[4, 0, 1, 1, 3]"
            ]
          },
          "metadata": {
            "tags": []
          },
          "execution_count": 3
        }
      ]
    }
  ]
}
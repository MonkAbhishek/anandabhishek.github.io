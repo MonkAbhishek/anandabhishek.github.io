{
  "nbformat": 4,
  "nbformat_minor": 0,
  "metadata": {
    "colab": {
      "name": "LeetCode Questions and Solutions by Me Dated 16th April 2021.ipynb",
      "provenance": [],
      "authorship_tag": "ABX9TyN6fqt82PDDa+rc2ij6GwcU",
      "include_colab_link": true
    },
    "kernelspec": {
      "name": "python3",
      "display_name": "Python 3"
    },
    "language_info": {
      "name": "python"
    }
  },
  "cells": [
    {
      "cell_type": "markdown",
      "metadata": {
        "id": "view-in-github",
        "colab_type": "text"
      },
      "source": [
        "<a href=\"https://colab.research.google.com/github/MonkAbhishek/anandabhishek.github.io/blob/master/LeetCode_Questions_and_Solutions_by_Me_Dated_16th_April_2021.ipynb\" target=\"_parent\"><img src=\"https://colab.research.google.com/assets/colab-badge.svg\" alt=\"Open In Colab\"/></a>"
      ]
    },
    {
      "cell_type": "code",
      "metadata": {
        "id": "ShT3skHTmjx5"
      },
      "source": [
        ""
      ],
      "execution_count": null,
      "outputs": []
    },
    {
      "cell_type": "markdown",
      "metadata": {
        "id": "Wqo2cBJpnwDx"
      },
      "source": [
        "**Roman to Integer | google technical interview question | python| leetcode 13**"
      ]
    },
    {
      "cell_type": "code",
      "metadata": {
        "colab": {
          "base_uri": "https://localhost:8080/"
        },
        "id": "zSb7j7YzpfGa",
        "outputId": "1d96b67b-fa8e-44a4-cb8c-737cab08f90e"
      },
      "source": [
        "#def RomanToInt(self,s:str)\n",
        "def_val = {'I':1,'V':5,'X':10,'L':50,'C':100,'D':500,'M':1000}\n",
        "prev = 0\n",
        "curr = 0\n",
        "total = 0\n",
        "\n",
        "\n",
        "\n",
        "#print(input(\"Enter Number in roman\"))\n",
        "number_in_roman = input(\"Enter Number in roman\")\n",
        "for i in range(len(number_in_roman)):\n",
        "  curr = def_val[number_in_roman[i]]\n",
        "  if curr > prev:\n",
        "    total = total + curr - 2 * prev\n",
        "  else:\n",
        "    total += curr\n",
        "  prev = curr\n",
        "print(total)"
      ],
      "execution_count": 12,
      "outputs": [
        {
          "output_type": "stream",
          "text": [
            "Enter Number in romanXLIV\n",
            "44\n"
          ],
          "name": "stdout"
        }
      ]
    },
    {
      "cell_type": "markdown",
      "metadata": {
        "id": "z8Uqr4Sc9_Dd"
      },
      "source": [
        "**Integer TO Roman   | google technical interview question | python| leetcode 12**"
      ]
    },
    {
      "cell_type": "markdown",
      "metadata": {
        "id": "W612wDme-ePM"
      },
      "source": [
        "Roman numerals are represented by seven different symbols: I, V, X, L, C, D and M.\n",
        "\n",
        "Symbol       Value\n",
        "I             1\n",
        "V             5\n",
        "X             10\n",
        "L             50\n",
        "C             100\n",
        "D             500\n",
        "M             1000"
      ]
    },
    {
      "cell_type": "code",
      "metadata": {
        "id": "n1X6nevvKy36"
      },
      "source": [
        "class Solution:\n",
        "    def intToRoman(self, num: int) -> str:\n",
        "        numbers = [1,4,5,9,10,40,50,90,100,400,500,900,1000]\n",
        "        letters = ['I','IV','V','IX','X','XL','L','XC','C','CD', 'D','CM','M']\n",
        "        \n",
        "        output = \"\"\n",
        "        start = len(numbers)-1\n",
        "        while num > 0:\n",
        "            while num // numbers[start] >= 1:\n",
        "                output += letters[start]\n",
        "                num -= numbers[start]\n",
        "            start -= 1\n",
        "        return output"
      ],
      "execution_count": 42,
      "outputs": []
    },
    {
      "cell_type": "code",
      "metadata": {
        "colab": {
          "base_uri": "https://localhost:8080/",
          "height": 52
        },
        "id": "DlzexyJaHAXp",
        "outputId": "4ca96654-e63f-4053-d4fc-9d1e6dca6338"
      },
      "source": [
        "def intToRoman(num):\n",
        "        numbers = [1,4,5,9,10,40,50,90,100,400,500,900,1000]\n",
        "        letters = ['I','IV','V','IX','X','XL','L','XC','C','CD', 'D','CM','M']\n",
        "        \n",
        "        output = \"\"\n",
        "        print(len(numbers))\n",
        "        start = len(numbers)-1\n",
        "        while num > 0:\n",
        "            while num // numbers[start] >= 1:\n",
        "                output += letters[start]\n",
        "                num -= numbers[start]\n",
        "            start -= 1\n",
        "        return output\n",
        "intToRoman(515)"
      ],
      "execution_count": 47,
      "outputs": [
        {
          "output_type": "stream",
          "text": [
            "13\n"
          ],
          "name": "stdout"
        },
        {
          "output_type": "execute_result",
          "data": {
            "application/vnd.google.colaboratory.intrinsic+json": {
              "type": "string"
            },
            "text/plain": [
              "'DXV'"
            ]
          },
          "metadata": {
            "tags": []
          },
          "execution_count": 47
        }
      ]
    },
    {
      "cell_type": "markdown",
      "metadata": {
        "id": "7oJcmoR5Mkm1"
      },
      "source": [
        ""
      ]
    },
    {
      "cell_type": "code",
      "metadata": {
        "id": "vMS4VXxrJ3IQ"
      },
      "source": [
        ""
      ],
      "execution_count": 51,
      "outputs": []
    },
    {
      "cell_type": "markdown",
      "metadata": {
        "id": "J0rKj9dCLEtY"
      },
      "source": [
        "\n",
        "# Convert a non-negative integer to its english words representation.\n",
        "# Given input is guaranteed to be less than 2^31 - 1.\n",
        "#\n",
        "# For example,\n",
        "# 123 -> \"One Hundred Twenty Three\"\n",
        "# 12345 -> \"Twelve Thousand Three Hundred Forty Five\"\n",
        "# 1234567 -> \"One Million Two Hundred Thirty Four Thousand Five Hundred Sixty Seven\""
      ]
    },
    {
      "cell_type": "code",
      "metadata": {
        "id": "zvviaYi_TFL0"
      },
      "source": [
        "#class Solution:\n",
        "def numberToWords(num):#-> str:\n",
        "#def numberToWords(self, num: int) -> str:\n",
        "    under_twenty = [\"\",\"One\",\"Two\",\"Three\",\"Four\",\"Five\",\"Six\",\"Seven\",\"Eight\",\"Nine\",\"Ten\",\"Eleven\",\"Twelve\",\"Thirteen\",\"Fourteen\",\"Fifteen\",\"Sixteen\",\"Seventeen\",\"Eighteen\",\"Nineteen\"]\n",
        "    tens = ['','','Twenty','Thirty','Fourty','Fifty','Sixty','Seventy','Eighty','Ninety']\n",
        "    chunks = [\"Thousand\",\"Million\",\"Billion\"]\n",
        "    \n",
        "    def to_words(num):\n",
        "        if num < 20 : return [under_twenty[num]]\n",
        "        if num < 100 : return [tens[num // 10 ]] + to_words(num%10)\n",
        "        if num < 1000 :\n",
        "            quotient, remainder = num //100 , num % 100\n",
        "            return [under_twenty[quotient], 'Hundred'] + to_words(remainder)\n",
        "        for power,chunk in enumerate(chunks,1):\n",
        "            if num < 1000 ** (power + 1):\n",
        "                quotient, remainder = num // 1000 ** power , num % 1000 ** power\n",
        "                return to_words(quotient) + [chunk] + to_words(remainder)\n",
        "    \n",
        "    return ' '.join(to_words(num)) or 'Zero'    \n",
        "        \n",
        "        "
      ],
      "execution_count": 10,
      "outputs": []
    },
    {
      "cell_type": "code",
      "metadata": {
        "colab": {
          "base_uri": "https://localhost:8080/",
          "height": 35
        },
        "id": "Cu_rzfuTLS2d",
        "outputId": "fa2d5bc7-71d5-419a-e744-7b70d0d25583"
      },
      "source": [
        "numberToWords(89878788)"
      ],
      "execution_count": 11,
      "outputs": [
        {
          "output_type": "execute_result",
          "data": {
            "application/vnd.google.colaboratory.intrinsic+json": {
              "type": "string"
            },
            "text/plain": [
              "'Eighty Nine Million Eight Hundred Seventy Eight Thousand Seven Hundred Eighty Eight'"
            ]
          },
          "metadata": {
            "tags": []
          },
          "execution_count": 11
        }
      ]
    }
  ]
}